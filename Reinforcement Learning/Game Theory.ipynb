{
 "cells": [
  {
   "cell_type": "markdown",
   "metadata": {},
   "source": [
    "### What is game theory?\n",
    "\n",
    "* mathematics of conflict\n",
    "    * mathematics of conflicts of interest when trying to make optimal choices\n",
    "* single agents -> multiple agents\n",
    "* comes out of economics\n",
    "    * (trying to figure out what happens with lots of actors with conflicting goals)\n",
    "* increasingly a part of AI/ML\n",
    "\n",
    "### A simple game\n",
    "\n",
    "* 2-player, zero-sum, finite deterministic game of perfect information\n",
    "* Two agents, a and b\n",
    "* a makes a choice, then b makes a choice, and then a might get to make a choice\n",
    "* b gets the opposite reward of what a gets\n",
    "\n",
    "strategies: all choices each player can make at each position (whether or not it's possible to end up in all positions)\n",
    "\n",
    "matrix form of the game--comprises everything you need to know about the game (matrix is point values for players based on what strategies they employ)\n",
    "\n",
    "### Minimax\n",
    "\n",
    "In a 2-player, zero-sum, finite deterministic game of perfect information:\n",
    "* Each player must consider the worst-case counter\n",
    "* Each player trying to maximize own reward, minimize other player's reward\n",
    "* mini-max strategy\n",
    "    * minimax = maximin, and there always exists an optimal pure strategy for each player\n",
    "    \n",
    "### A more complex game\n",
    "\n",
    "2-player, zero-sum, <i>non</i>-deterministic game of perfect information (adds nodes with no choices for the players, probability of different actions happening at those nodes)\n",
    "\n",
    "### An even more complex game\n",
    "\n",
    "2-player, zero-sum, non-deterministic game of <i>hidden</i> information\n",
    "\n",
    "* A is dealt a card, red or black 50%\n",
    "* A may resign if red: -20 cents for A\n",
    "* else A holds\n",
    "    * b resigns: +10 cents\n",
    "    * b sees:\n",
    "        * if red: -40 cents\n",
    "        * if black: +30 cents\n",
    "\n",
    "with hidden information, minimax != maximin, von neumann's theorem fails\n",
    "\n",
    "### Mixed strategy\n",
    "\n",
    "### Snitch\n",
    "\n",
    "2-player, non-zero-sum, non-deterministic game of hidden information\n",
    "\n",
    "prisoner's dilemma\n",
    "\n",
    "defect vs. cooperate; defect dominates for both, even tough both cooperating would bet the better option\n",
    "\n",
    "### Beautiful Equilibrium\n",
    "\n",
    "Given n players with strategies, and one player who can change their strategy after seeing everyone else's strategies, it's a Nash Equilibrium only if there's no reason for anyone to change their strategy\n",
    "\n",
    "### Two-Step\n",
    "\n",
    "Regardless of number of steps, the Nash Equilibrium still holds (so the extra steps are unnecessary)\n",
    "\n",
    "### Stochastic Games and Multiagent Reinforcement Learning\n",
    "\n"
   ]
  },
  {
   "cell_type": "code",
   "execution_count": 1,
   "metadata": {
    "collapsed": false
   },
   "outputs": [
    {
     "data": {
      "text/plain": [
       "-2.0"
      ]
     },
     "execution_count": 1,
     "metadata": {},
     "output_type": "execute_result"
    }
   ],
   "source": [
    "(0.8 * -5) + (0.2 * 10)"
   ]
  },
  {
   "cell_type": "code",
   "execution_count": 3,
   "metadata": {
    "collapsed": false
   },
   "outputs": [
    {
     "data": {
      "text/plain": [
       "-8.0"
      ]
     },
     "execution_count": 3,
     "metadata": {},
     "output_type": "execute_result"
    }
   ],
   "source": [
    "(0.5 * 4) + (0.5 * -20)"
   ]
  },
  {
   "cell_type": "code",
   "execution_count": 4,
   "metadata": {
    "collapsed": false
   },
   "outputs": [
    {
     "data": {
      "text/plain": [
       "0.4"
      ]
     },
     "execution_count": 4,
     "metadata": {},
     "output_type": "execute_result"
    }
   ],
   "source": [
    "10 / 25"
   ]
  },
  {
   "cell_type": "code",
   "execution_count": null,
   "metadata": {
    "collapsed": true
   },
   "outputs": [],
   "source": []
  }
 ],
 "metadata": {
  "kernelspec": {
   "display_name": "Python [py35]",
   "language": "python",
   "name": "Python [py35]"
  },
  "language_info": {
   "codemirror_mode": {
    "name": "ipython",
    "version": 3
   },
   "file_extension": ".py",
   "mimetype": "text/x-python",
   "name": "python",
   "nbconvert_exporter": "python",
   "pygments_lexer": "ipython3",
   "version": "3.5.2"
  }
 },
 "nbformat": 4,
 "nbformat_minor": 0
}

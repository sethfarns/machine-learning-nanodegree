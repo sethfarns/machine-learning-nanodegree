{
 "cells": [
  {
   "cell_type": "markdown",
   "metadata": {},
   "source": [
    "## Applications of CNNs\n",
    "\n",
    "RNNs used more frequently in NLP, though CNNs can be used in this area too\n",
    "\n",
    "* [Text classification](http://www.wildml.com/2015/12/implementing-a-cnn-for-text-classification-in-tensorflow/)\n",
    "* [Language translation](https://code.facebook.com/posts/1978007565818999/a-novel-approach-to-neural-machine-translation/)\n",
    "* Play [Atari games](https://code.facebook.com/posts/1978007565818999/a-novel-approach-to-neural-machine-translation/) with a CNN and reinforcement learning\n",
    "* Power drones\n",
    "* Self-driving cars\n",
    "* [Localize breast cancer](https://research.googleblog.com/2017/03/assisting-pathologists-in-detecting.html)\n",
    "\n",
    "## How Computers Interpret Images\n",
    "\n",
    "* MNIST database, 70,000 images of hand-written digits (available in `keras.datasets`)\n",
    "\n",
    "## Hyperparameter tuning\n",
    "\n",
    "http://machinelearningmastery.com/grid-search-hyperparameters-deep-learning-models-python-keras/"
   ]
  },
  {
   "cell_type": "code",
   "execution_count": null,
   "metadata": {
    "collapsed": true
   },
   "outputs": [],
   "source": []
  }
 ],
 "metadata": {
  "anaconda-cloud": {},
  "kernelspec": {
   "display_name": "Python [py35]",
   "language": "python",
   "name": "Python [py35]"
  },
  "language_info": {
   "codemirror_mode": {
    "name": "ipython",
    "version": 3
   },
   "file_extension": ".py",
   "mimetype": "text/x-python",
   "name": "python",
   "nbconvert_exporter": "python",
   "pygments_lexer": "ipython3",
   "version": "3.5.2"
  }
 },
 "nbformat": 4,
 "nbformat_minor": 0
}

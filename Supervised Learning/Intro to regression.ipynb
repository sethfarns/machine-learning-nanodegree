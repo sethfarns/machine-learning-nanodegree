{
 "cells": [
  {
   "cell_type": "markdown",
   "metadata": {},
   "source": [
    "Mapping continuous inputs to outputs (vice discrete, which would be for classification)\n",
    "Regression to the mean\n",
    "Regression morphed from meaning regression to the mean into finding mathematical relationship based on a bunch of points; regression now means using functional form to approximate a bunch of data points\n",
    "Reinforcement learning, also doesn't mean what it used to mean\n",
    "\n",
    "### Linear Regression\n",
    "\n",
    "### Order of Polynomial\n",
    "\n",
    "k = 0 : constant\n",
    "k = 1 : line\n",
    "k = 2 : parabola\n",
    "k = 3 : cubic\n",
    "k = 8 : octic\n",
    "(higher n, more curves)\n",
    "\n",
    "### Polynomial Regression\n",
    "\n",
    "C$_0$ + C$_1$x + C$_2$x$^2$ + C$_3$x$^3$ ~ y<br>\n",
    "or<br>\n",
    "X (matrix of points) times w (coefficients) approximates y\n",
    "1. Pre-multiply by the transpose of X\n",
    "2. w = (X$^T$X)$^-$$^1$X$^T$Y\n",
    "\n",
    "### Errors\n",
    "\n",
    "Training data has errors--where do these errors come from?\n",
    "* sensor error\n",
    "* human error (transcription)\n",
    "* malicious\n",
    "* unmodeled influence\n",
    "\n",
    "### Cross validation\n",
    "\n",
    "Don't train on test set--model needs to be able to generalize to the real world.  A fundamental assumption (at least in most of our algorithms) is that our training and testing data are representative of data in the real world. IID = independent and identically distributed. Use cross-validation set as stand-in for test data, since using the test data would be cheating. Concept of folds. Helps avoid over-fitting, as cross-validation error will start to increase as over-fitting occurs.\n",
    "\n",
    "### Other Input Spaces\n",
    "\n",
    "scalar input, continuous output\n",
    "vector input, continuous output (include more input features)\n",
    "How do we include more features (combine multiple features in one)?\n",
    ">Convert lines to planes\n",
    "\n",
    "Can also combine discrete and continuous variables. For discrete variables, can assign each value to a number (if you can imply order), or convert each value to a boolean test (yes/no, 1/0).\n",
    "\n",
    "### Conclusion\n",
    "\n",
    "* historical facts\n",
    "* model selection and under/over fitting\n",
    "* cross validation\n",
    "* linear, polynomial regression\n",
    "* best constant in terms of squared error: mean\n",
    "* representation for regression"
   ]
  },
  {
   "cell_type": "code",
   "execution_count": null,
   "metadata": {
    "collapsed": true
   },
   "outputs": [],
   "source": []
  }
 ],
 "metadata": {
  "anaconda-cloud": {},
  "kernelspec": {
   "display_name": "Python [py35]",
   "language": "python",
   "name": "Python [py35]"
  },
  "language_info": {
   "codemirror_mode": {
    "name": "ipython",
    "version": 3
   },
   "file_extension": ".py",
   "mimetype": "text/x-python",
   "name": "python",
   "nbconvert_exporter": "python",
   "pygments_lexer": "ipython3",
   "version": "3.5.2"
  }
 },
 "nbformat": 4,
 "nbformat_minor": 0
}

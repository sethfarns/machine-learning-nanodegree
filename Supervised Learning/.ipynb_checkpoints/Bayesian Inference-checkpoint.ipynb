{
 "cells": [
  {
   "cell_type": "markdown",
   "metadata": {},
   "source": [
    "### Bayesian Inference\n",
    "\n",
    "Representing and reasoning with probabilities\n",
    "\n",
    "Bayesian networks\n",
    "\n",
    "### Joint Distribution\n",
    "\n",
    "### Conditional Independence\n",
    "\n",
    "x is conditionally independent of y given z if the probability distribution governing x is independent of the value of y given the value of z (i.e. y doesn't matter for determing the probability of x given z)\n",
    "\n",
    "Pr(x|y,z) = Pr(x|z)\n",
    "\n",
    "### Belief Networks\n",
    "\n",
    "aka Bayes Nets, aka Bayesian Networks, aka Graphical Models\n",
    "\n",
    "represent conditional independence between all the variables in the joint distribution graphically\n",
    "\n",
    "nodes correspond to variables, edges correspond to dependencies that need to be explicitly represented\n",
    "\n",
    "cannot infer causal relationship just because there are conditional relationships\n",
    "\n",
    "### Sampling from the Joint Distribution\n",
    "\n",
    "The nodes should be topologically sorted, so that the nodes that haven't been visited yet are put in after the ones that have been visited. Must be acyclic\n",
    "\n",
    "### Inferencing Rules\n",
    "\n",
    "Marginalization = we can represent the probability of a value by summing over some other variable and looking at the joint probability of those two values, i.e. probability of x equals probablity of x when y is true plus prob. of x when y is not true\n",
    "\n",
    "Chain rule = probablity of x and y = probablity x * probability of y given x\n",
    "\n",
    "Bayes rule = probability of y given x = probability of x given y times probability of y divided by probablity of z\n",
    "\n",
    "### Naive Bayes\n",
    "\n",
    "Any given email has a certain probability of being spam; given that an email is spam, what's the probability a given word occurs, versus what's the probability of seeing that word given the email is not spam\n",
    "\n",
    "Since it's naive, all variables are assumed to be independent, so all the probabilities of each value given the label or class are merely multiplied by each other\n",
    "\n",
    "### Why Naive Bayes Is Cool\n",
    "\n",
    "Pros:\n",
    "* Inference is cheap\n",
    "* Few parameters\n",
    "* Estimate parameters with labeled data\n",
    "* Connects inference and classification\n",
    "* Empirically successful\n",
    "\n",
    "Cons:\n",
    "* Doesn't model interrelationships between attributes\n",
    "\n",
    "\"Smoothing\", to keep an attribute from zeroing out\n",
    "Inductive bias, saying that all things are at least mildly possible\n",
    "\n",
    "### Wrapping Up\n",
    "\n"
   ]
  },
  {
   "cell_type": "code",
   "execution_count": 2,
   "metadata": {
    "collapsed": false
   },
   "outputs": [
    {
     "data": {
      "text/plain": [
       "0.3846153846153846"
      ]
     },
     "execution_count": 2,
     "metadata": {},
     "output_type": "execute_result"
    }
   ],
   "source": [
    "0.25 / 0.65"
   ]
  },
  {
   "cell_type": "code",
   "execution_count": 6,
   "metadata": {
    "collapsed": false
   },
   "outputs": [
    {
     "data": {
      "text/plain": [
       "0.2"
      ]
     },
     "execution_count": 6,
     "metadata": {},
     "output_type": "execute_result"
    }
   ],
   "source": [
    "0.05 / 0.25"
   ]
  },
  {
   "cell_type": "code",
   "execution_count": 7,
   "metadata": {
    "collapsed": false
   },
   "outputs": [
    {
     "data": {
      "text/plain": [
       "0.19999999999999998"
      ]
     },
     "execution_count": 7,
     "metadata": {},
     "output_type": "execute_result"
    }
   ],
   "source": [
    "0.01 / 0.05"
   ]
  },
  {
   "cell_type": "code",
   "execution_count": 8,
   "metadata": {
    "collapsed": false
   },
   "outputs": [
    {
     "data": {
      "text/plain": [
       "0.8"
      ]
     },
     "execution_count": 8,
     "metadata": {},
     "output_type": "execute_result"
    }
   ],
   "source": [
    "0.24 / 0.3"
   ]
  },
  {
   "cell_type": "code",
   "execution_count": 16,
   "metadata": {
    "collapsed": false
   },
   "outputs": [
    {
     "data": {
      "text/plain": [
       "0.14285714285714288"
      ]
     },
     "execution_count": 16,
     "metadata": {},
     "output_type": "execute_result"
    }
   ],
   "source": [
    ".05 / .35"
   ]
  },
  {
   "cell_type": "code",
   "execution_count": 10,
   "metadata": {
    "collapsed": false
   },
   "outputs": [
    {
     "data": {
      "text/plain": [
       "0.8"
      ]
     },
     "execution_count": 10,
     "metadata": {},
     "output_type": "execute_result"
    }
   ],
   "source": [
    ".24 / .30"
   ]
  },
  {
   "cell_type": "code",
   "execution_count": 13,
   "metadata": {
    "collapsed": false
   },
   "outputs": [
    {
     "data": {
      "text/plain": [
       "0.2"
      ]
     },
     "execution_count": 13,
     "metadata": {},
     "output_type": "execute_result"
    }
   ],
   "source": [
    ".06 / .30"
   ]
  },
  {
   "cell_type": "code",
   "execution_count": 15,
   "metadata": {
    "collapsed": false
   },
   "outputs": [
    {
     "data": {
      "text/plain": [
       "0.10000000000000002"
      ]
     },
     "execution_count": 15,
     "metadata": {},
     "output_type": "execute_result"
    }
   ],
   "source": [
    ".07 / .7"
   ]
  },
  {
   "cell_type": "code",
   "execution_count": null,
   "metadata": {
    "collapsed": true
   },
   "outputs": [],
   "source": []
  }
 ],
 "metadata": {
  "anaconda-cloud": {},
  "kernelspec": {
   "display_name": "Python [py35]",
   "language": "python",
   "name": "Python [py35]"
  },
  "language_info": {
   "codemirror_mode": {
    "name": "ipython",
    "version": 3
   },
   "file_extension": ".py",
   "mimetype": "text/x-python",
   "name": "python",
   "nbconvert_exporter": "python",
   "pygments_lexer": "ipython3",
   "version": "3.5.2"
  }
 },
 "nbformat": 4,
 "nbformat_minor": 0
}

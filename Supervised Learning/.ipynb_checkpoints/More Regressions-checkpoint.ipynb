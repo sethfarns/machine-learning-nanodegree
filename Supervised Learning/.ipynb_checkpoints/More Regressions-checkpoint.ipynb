{
 "cells": [
  {
   "cell_type": "markdown",
   "metadata": {},
   "source": [
    "### Introduction\n",
    "\n",
    "Better name for regression: numerical model. Definition: using data to build a model that predicts a numerical output based on a set of numerical inputs.\n",
    "\n",
    "### Parametric regression\n",
    "\n",
    "Way of building a model where we represent the model with a number of parameters\n",
    "For linear regression, with equation $y = mx + b$, 'm' and 'b' are the parameters of the model. Model is fully explained by those two parameters.\n",
    "\n",
    "For polynomial, we can add another parameter to make the equation y = m$_2$x$^2$ + mx + b, with the additional parameter m$_2$.\n",
    "\n",
    "### K nearest neighbor (KNN)\n",
    "\n",
    "Keep the data and use it when we make a query. If k = 3, find 3 nearest historical data points nearest to the query, use them to make the prediction (take the mean of the k nearest neighbors). (Non-parametric models also known as instance-based models.)\n",
    "\n",
    "### Kernel regression\n",
    "\n",
    "Similar to KNN, but we weight the contributions of the nearest data points according to their distance from the query point.\n",
    "\n",
    "### Pros and cons of parametric vs. non-parametric\n",
    "\n",
    "* Parametric doesn't store the data, more space-efficient\n",
    "* However, not easy to update the model with new data--generally have to completely re-run it\n",
    "* For parametric, training is slow, but querying is fast\n",
    "* For non-parametric, all data points stored (not space-efficient)\n",
    "* But new data can be added easily\n",
    "* Training is fast, but querying is potentially slow\n",
    "* Non-parametric avoid having to assume a certain type of model, good for complex problems where we don't know the underlying model\n",
    "\n",
    "### Which problems is regression useful for?\n",
    "\n",
    "(Continuous vs. categorical)\n",
    "\n",
    "### Is polynomial regression still linear?\n",
    "\n",
    "Yes; the space of polynomials is linear in its coefficients\n",
    "\n"
   ]
  },
  {
   "cell_type": "code",
   "execution_count": null,
   "metadata": {
    "collapsed": true
   },
   "outputs": [],
   "source": []
  }
 ],
 "metadata": {
  "anaconda-cloud": {},
  "kernelspec": {
   "display_name": "Python [py35]",
   "language": "python",
   "name": "Python [py35]"
  },
  "language_info": {
   "codemirror_mode": {
    "name": "ipython",
    "version": 3
   },
   "file_extension": ".py",
   "mimetype": "text/x-python",
   "name": "python",
   "nbconvert_exporter": "python",
   "pygments_lexer": "ipython3",
   "version": "3.5.2"
  }
 },
 "nbformat": 4,
 "nbformat_minor": 0
}

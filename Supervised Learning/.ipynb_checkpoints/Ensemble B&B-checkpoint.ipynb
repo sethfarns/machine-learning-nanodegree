{
 "cells": [
  {
   "cell_type": "markdown",
   "metadata": {},
   "source": [
    "### Simple Rules\n",
    "\n",
    "Learn different rules over different subsets of the data, to combine them into a complex rule\n",
    "\n",
    "### Bagging\n",
    "\n",
    "How to choose subsets?\n",
    "\n",
    "* uniformly randomly pick data, apply a learner\n",
    "\n",
    "How to combine?\n",
    "\n",
    "* mean\n",
    "\n",
    "each learner outputs one data point for each subset, the output is the average or mean of that data points\n",
    "\n",
    "bagging (aka bootstrap aggregation): taking uniform random subsets, combining on the mean\n",
    "\n",
    "### Boosting\n",
    "\n",
    "How to choose subsets?\n",
    "\n",
    "* pick the \"hardest\" examples, i.e. hard as in if we were to stop now, how would we do?; focus on the examples that are hard to classify\n",
    "\n",
    "How to combine?\n",
    "\n",
    "* weighted mean\n",
    "\n",
    "\"weak\" learner: always does better than chance (0.5)\n",
    "\n",
    "### Boosting in Pseudo-code\n",
    "\n",
    "Given training data\n",
    "\n",
    "For t = 1 to T (iterations)\n",
    "* construct distribution\n",
    "* find weak classifier with small error (< 0.5)\n",
    "\n",
    "combine into output final hypothesis\n",
    "\n",
    "### Most Important Parts\n",
    "\n",
    "Start out with uniform distribution\n",
    "At every time step, construct new distribution\n",
    "puts more weight on the ones that it gets wrong (where hypothesis output doesn't match the label)\n",
    "\n",
    "### Final Hypothesis\n",
    "\n",
    "Return weighted average\n",
    "\n",
    "### Boosting Tends to Overfit If...\n",
    "\n",
    "...the weak learner uses a neural network with many layers & nodes, i.e. if all the weakest learners overfit, then boosting will also overfit\n",
    "\n",
    "...there is pink noise (aka uniform noise)"
   ]
  },
  {
   "cell_type": "code",
   "execution_count": 1,
   "metadata": {
    "collapsed": false
   },
   "outputs": [
    {
     "data": {
      "text/plain": [
       "0.1"
      ]
     },
     "execution_count": 1,
     "metadata": {},
     "output_type": "execute_result"
    }
   ],
   "source": [
    "(0.05 + 0.05) / (0.5 + 0.4 + 0.05 + 0.05)"
   ]
  },
  {
   "cell_type": "code",
   "execution_count": null,
   "metadata": {
    "collapsed": true
   },
   "outputs": [],
   "source": [
    "0.05 + 0.35 + 0.35 + 0.25"
   ]
  },
  {
   "cell_type": "code",
   "execution_count": null,
   "metadata": {
    "collapsed": true
   },
   "outputs": [],
   "source": [
    "x2 + x3 + x4 <= 50\n",
    "x2 + x3 <= 50\n",
    "x1 + x4 <= 50\n",
    "x1 + x2 + x3 + x4 = 100"
   ]
  },
  {
   "cell_type": "code",
   "execution_count": null,
   "metadata": {
    "collapsed": true
   },
   "outputs": [],
   "source": [
    "x1 = 50\n",
    "x4 = 0"
   ]
  },
  {
   "cell_type": "code",
   "execution_count": null,
   "metadata": {
    "collapsed": true
   },
   "outputs": [],
   "source": [
    "x2 + x3 <= 50"
   ]
  }
 ],
 "metadata": {
  "kernelspec": {
   "display_name": "Python [py35]",
   "language": "python",
   "name": "Python [py35]"
  },
  "language_info": {
   "codemirror_mode": {
    "name": "ipython",
    "version": 3
   },
   "file_extension": ".py",
   "mimetype": "text/x-python",
   "name": "python",
   "nbconvert_exporter": "python",
   "pygments_lexer": "ipython3",
   "version": "3.5.2"
  }
 },
 "nbformat": 4,
 "nbformat_minor": 0
}

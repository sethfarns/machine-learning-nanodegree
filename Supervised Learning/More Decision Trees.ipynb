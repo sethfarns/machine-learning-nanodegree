{
 "cells": [
  {
   "cell_type": "code",
   "execution_count": 1,
   "metadata": {
    "collapsed": true
   },
   "outputs": [],
   "source": [
    "from sklearn.tree import DecisionTreeClassifier"
   ]
  },
  {
   "cell_type": "code",
   "execution_count": 8,
   "metadata": {
    "collapsed": false
   },
   "outputs": [
    {
     "data": {
      "text/plain": [
       "1.0"
      ]
     },
     "execution_count": 8,
     "metadata": {},
     "output_type": "execute_result"
    }
   ],
   "source": [
    "X = [[0,0], [1,1]]\n",
    "Y = [0,1]\n",
    "clf = DecisionTreeClassifier()\n",
    "clf.fit(X, Y)\n",
    "predicted = clf.predict([[2,2]])\n",
    "\n",
    "from sklearn.metrics import accuracy_score\n",
    "acc = accuracy_score([1], predicted)\n",
    "acc"
   ]
  },
  {
   "cell_type": "markdown",
   "metadata": {},
   "source": [
    "### Data Impurity and Entropy\n",
    "\n",
    "entropy: measure of impurity in a bunch of examples\n",
    "\n",
    "DT's want to minimize impurity (make the choice that minimizes randomness, makes subsets that are as pure as possible)"
   ]
  },
  {
   "cell_type": "markdown",
   "metadata": {},
   "source": [
    "### Information Gain\n",
    "\n",
    "information gain = entropy(parent) - [weighted average] entropy(children)\n",
    "decision tree algorithms maximize information gain in traversing the tree"
   ]
  },
  {
   "cell_type": "markdown",
   "metadata": {},
   "source": [
    "### Tuning Criterion Parameter\n",
    "tunable parameter in sklearn; default is 'gini' for the Gini impurity; can also choose 'entropy' for information gain"
   ]
  },
  {
   "cell_type": "markdown",
   "metadata": {},
   "source": [
    "### Bias-Variance Dilemma\n",
    "\n",
    "highly biased model practically ignores the data\n",
    "high variance model overfits the data, doesn't generalize well"
   ]
  },
  {
   "cell_type": "markdown",
   "metadata": {},
   "source": [
    "### DT Strengths and Weaknesses\n",
    "\n",
    "Very easy to use and understand\n",
    "Prone to overfitting (be careful with hyperparameter tuning)\n",
    "Use ensemble to build bigger classifiers from decision trees (i.e. Random Forest)"
   ]
  },
  {
   "cell_type": "code",
   "execution_count": null,
   "metadata": {
    "collapsed": true
   },
   "outputs": [],
   "source": []
  }
 ],
 "metadata": {
  "kernelspec": {
   "display_name": "Python [py35]",
   "language": "python",
   "name": "Python [py35]"
  },
  "language_info": {
   "codemirror_mode": {
    "name": "ipython",
    "version": 3
   },
   "file_extension": ".py",
   "mimetype": "text/x-python",
   "name": "python",
   "nbconvert_exporter": "python",
   "pygments_lexer": "ipython3",
   "version": "3.5.2"
  }
 },
 "nbformat": 4,
 "nbformat_minor": 0
}

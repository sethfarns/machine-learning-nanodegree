{
 "cells": [
  {
   "cell_type": "markdown",
   "metadata": {
    "collapsed": true
   },
   "source": [
    "### Feature Selection: How hard is the problem?\n",
    "2$^n$!\n",
    "\n",
    "### Filtering and Wrapping\n",
    "\n",
    "Filtering (filtering done by algorithm without reference to learner):\n",
    "* Run features through some algorithm that maximizes some kind of criteria, outputs fewer features, and passes those to some learning algorithm that will then use them for classification\n",
    "* Faster than wrapping\n",
    "* Looks at features in isolation\n",
    "* Ignores the learning problem\n",
    "* i.e. with Decision Trees, using information gain as the criterion\n",
    "* Potential criteria:\n",
    "    * Information gain\n",
    "    * Variance/entropy\n",
    "    * Gini\n",
    "    * non-redundant\n",
    "Wrapping (filtering based on feedback from learner):\n",
    "* Take features, run them into a box that searches over a subset of features, asks the learning algorithm to do something with them, the learning algorithm reports how well it does, and it uses that to choose a new subset of features to pass to the learning algorithm\n",
    "* Takes into account model bias\n",
    "* Slow\n",
    "* Potential criteria/searching techniques:\n",
    "    * Hill climbing\n",
    "    * Randomized optimization\n",
    "    * Forward sequential selection\n",
    "        * Start with a feature, get a score, get next feature, get the score, and so on; keep the feature with the best score\n",
    "        * Then go through each remaining feature, add it to the best feature, and see which one has the best score\n",
    "        * And so on until the score doesn't significantly improve\n",
    "    * Backward elimination\n",
    "        * Same as forward sequential, but in reverse (start with all, remove one at a time and see how the score changes, choose the one with the lowest score decrease/non-significant score decrease)\n",
    "        \n",
    "### Relevance\n",
    "\n",
    "a feature is strongly relevant if removing it degrades Bayes' Optimal Classifier (BOC) (the best that you could do)\n",
    "\n",
    "a feature is weakly relevant if\n",
    "* not strongly relevant\n",
    "* there is a subset of features such that adding the feature to the subset improves BOC\n",
    "\n",
    "the feature is otherwise irrelevant\n",
    "\n",
    "### Relevance vs Usefulness\n",
    "\n",
    "* relevance measures effect on BOC\n",
    "* usefulness measures effect on a particular predictor (actually helps you do the learning)\n",
    "\n",
    "relevance ~ information\n",
    "\n",
    "usefulness ~ error | model/learner"
   ]
  },
  {
   "cell_type": "code",
   "execution_count": null,
   "metadata": {
    "collapsed": true
   },
   "outputs": [],
   "source": []
  }
 ],
 "metadata": {
  "kernelspec": {
   "display_name": "Python [py35]",
   "language": "python",
   "name": "Python [py35]"
  },
  "language_info": {
   "codemirror_mode": {
    "name": "ipython",
    "version": 3
   },
   "file_extension": ".py",
   "mimetype": "text/x-python",
   "name": "python",
   "nbconvert_exporter": "python",
   "pygments_lexer": "ipython3",
   "version": "3.5.2"
  }
 },
 "nbformat": 4,
 "nbformat_minor": 0
}

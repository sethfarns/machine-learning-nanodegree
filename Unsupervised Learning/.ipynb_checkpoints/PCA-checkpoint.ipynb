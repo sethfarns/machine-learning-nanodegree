{
 "cells": [
  {
   "cell_type": "markdown",
   "metadata": {},
   "source": [
    "## Principal Component Analysis\n",
    "\n",
    "Wikipedia:\n",
    "* statistical procedure that uses orthogonal transformation to convert a set of observations of possibly correlated variables into a set of values of linearly uncorrelated variables called principal components\n",
    "* number of distinct principal components is equal to the smaller of the number of original variables or the number of observations minus one\n",
    "* the first principal component has the largest possible variance (accounts for as much of the variability in the data as possible)\n",
    "\n",
    "Udacity:\n",
    "* systematized way to transform input features into principal components\n",
    "* use principal components as new features\n",
    "* PCs are directions in data that maximize variance (minimize information loss) when you project/compress down onto them\n",
    "* more variance of data along a PC, higher that PC is ranked\n",
    "* most variance/most information -> first PC\n",
    "    * second-most variance (without overlapping w/first PC) -> second PC\n",
    "    * and so on...\n",
    "* max no. of PCs = no. of input features\n",
    "\n",
    "In sklearn:\n",
    "\n",
    "```python\n",
    "from sklearn.decomposition import PCA\n",
    "pca = PCA(n_components=2)\n",
    "```\n",
    "\n",
    "### When to use PCA\n",
    "\n",
    "* want access to latent features driving the patterns in data\n",
    "    * e.g. can you measure who the \"big shots\" are in Enron?\n",
    "* dimensionality reduction\n",
    "    * visualize high-dimensional data (able to plot first two components)\n",
    "    * reduce noise (dimensions/features that don't help us solve the problem)\n",
    "    * make other algorithms (regression, classification) work better because there are fewer inputs (e.g. eigenfaces)"
   ]
  },
  {
   "cell_type": "code",
   "execution_count": null,
   "metadata": {
    "collapsed": true
   },
   "outputs": [],
   "source": []
  }
 ],
 "metadata": {
  "anaconda-cloud": {},
  "kernelspec": {
   "display_name": "Python [py35]",
   "language": "python",
   "name": "Python [py35]"
  },
  "language_info": {
   "codemirror_mode": {
    "name": "ipython",
    "version": 3
   },
   "file_extension": ".py",
   "mimetype": "text/x-python",
   "name": "python",
   "nbconvert_exporter": "python",
   "pygments_lexer": "ipython3",
   "version": "3.5.2"
  }
 },
 "nbformat": 4,
 "nbformat_minor": 0
}

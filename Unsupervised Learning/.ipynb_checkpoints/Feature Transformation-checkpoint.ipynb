{
 "cells": [
  {
   "cell_type": "markdown",
   "metadata": {},
   "source": [
    "Definition: The problem of pre-processing a set of features to create a new (smaller? more compact?) feature set, while retaining as much (relevant? useful?) information as possible\n",
    "\n",
    "Linear combination of original features\n",
    "\n",
    "### Why do feature transformation?\n",
    "\n",
    "ad hoc information retrieval problem\n",
    "\n",
    "want to retrieve the subset of documents that is exactly relevant to the query; query is ad hoc, i.e. you don't know what it's going to be beforehand, so you don't necessarily know how to structure your data to optimize the document retrieval\n",
    "\n",
    "what are our features?\n",
    "\n",
    "* words\n",
    "\n",
    "problems with words:\n",
    "* lots of them\n",
    "* multiple meanings for some words (polysemy)\n",
    "* many words mean the same things (synonomy)\n",
    "\n",
    "feature selection cannot solve these problems\n",
    "\n",
    "### Independent Components Analysis (ICA)\n",
    "\n",
    "* PCA is about finding correlation, by maximizing variance, allowing you to do reconstruction\n",
    "* ICA is about independence, reducing feature set to those features that are statistically independent of one another"
   ]
  }
 ],
 "metadata": {
  "kernelspec": {
   "display_name": "Python [py35]",
   "language": "python",
   "name": "Python [py35]"
  },
  "language_info": {
   "codemirror_mode": {
    "name": "ipython",
    "version": 3
   },
   "file_extension": ".py",
   "mimetype": "text/x-python",
   "name": "python",
   "nbconvert_exporter": "python",
   "pygments_lexer": "ipython3",
   "version": "3.5.2"
  }
 },
 "nbformat": 4,
 "nbformat_minor": 0
}

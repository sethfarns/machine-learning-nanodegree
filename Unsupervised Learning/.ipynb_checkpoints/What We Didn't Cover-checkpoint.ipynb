{
 "cells": [
  {
   "cell_type": "markdown",
   "metadata": {},
   "source": [
    "### Deep Learning\n",
    "\n",
    "New techniques for getting signal through multiple layers\n",
    "Deep neural networks\n",
    "\n",
    "### Big Data\n",
    "\n",
    "Algorithmic challenges from gigantic datasets\n",
    "Linear is too slow, quadratic is unacceptable\n",
    "\n",
    "### Semi-supervised Learning\n",
    "\n",
    "Label some data, then use unsupervised methods in combination with the labels you already have to sort of figure out labels for the rest of the unlabeled data"
   ]
  }
 ],
 "metadata": {
  "anaconda-cloud": {},
  "kernelspec": {
   "display_name": "Python [py35]",
   "language": "python",
   "name": "Python [py35]"
  },
  "language_info": {
   "codemirror_mode": {
    "name": "ipython",
    "version": 3
   },
   "file_extension": ".py",
   "mimetype": "text/x-python",
   "name": "python",
   "nbconvert_exporter": "python",
   "pygments_lexer": "ipython3",
   "version": "3.5.2"
  }
 },
 "nbformat": 4,
 "nbformat_minor": 0
}
